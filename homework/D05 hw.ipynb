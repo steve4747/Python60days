{
 "cells": [
  {
   "cell_type": "code",
   "execution_count": 23,
   "metadata": {},
   "outputs": [],
   "source": [
    "import numpy as np"
   ]
  },
  {
   "cell_type": "code",
   "execution_count": 24,
   "metadata": {},
   "outputs": [],
   "source": [
    "english_score = np.array([55,89,76,65,48,70])\n",
    "\n",
    "math_score = np.array([60,85,60,68,np.nan,60])\n",
    "\n",
    "chinese_score = np.array([65,90,82,72,66,77])"
   ]
  },
  {
   "cell_type": "code",
   "execution_count": 30,
   "metadata": {},
   "outputs": [
    {
     "name": "stdout",
     "output_type": "stream",
     "text": [
      "67.16666666666667 89 48 13.433995020924426\n",
      "66.6 nan nan 9.707728879609279\n",
      "75.33333333333333 90 65 8.825468196582484\n"
     ]
    }
   ],
   "source": [
    "english_score_avr = np.mean(english_score)\n",
    "english_score_max = np.amax(english_score)\n",
    "english_score_min = np.amin(english_score)\n",
    "english_score_std = np.std(english_score)\n",
    "print(english_score_avr, english_score_max, english_score_min, english_score_std)\n",
    "\n",
    "math_score_avr = np.nanmean(math_score)\n",
    "math_score_max = np.amax(math_score)\n",
    "math_score_min = np.amin(math_score)\n",
    "math_score_std = np.nanstd(math_score)\n",
    "print(math_score_avr, math_score_max, math_score_min, math_score_std)\n",
    "\n",
    "chinese_score_avr = np.mean(chinese_score)\n",
    "chinese_score_max = np.amax(chinese_score)\n",
    "chinese_score_min = np.amin(chinese_score)\n",
    "chinese_score_std = np.std(chinese_score)\n",
    "print(chinese_score_avr, chinese_score_max, chinese_score_min, chinese_score_std)\n"
   ]
  },
  {
   "cell_type": "code",
   "execution_count": 31,
   "metadata": {},
   "outputs": [
    {
     "name": "stdout",
     "output_type": "stream",
     "text": [
      "64.66666666666667 85.0 55.0 9.860132971832694\n"
     ]
    }
   ],
   "source": [
    "math_score[4] = 55\n",
    "math_score_avr = np.nanmean(math_score)\n",
    "math_score_max = np.amax(math_score)\n",
    "math_score_min = np.amin(math_score)\n",
    "math_score_std = np.nanstd(math_score)\n",
    "print(math_score_avr, math_score_max, math_score_min, math_score_std)"
   ]
  },
  {
   "cell_type": "code",
   "execution_count": 35,
   "metadata": {},
   "outputs": [
    {
     "name": "stdout",
     "output_type": "stream",
     "text": [
      "[29616.] [31055]\n"
     ]
    }
   ],
   "source": [
    "chinese_math_cor = np.correlate(chinese_score, math_score)\n",
    "chinese_english_cor = np.correlate(chinese_score, english_score)\n",
    "print(chinese_math_cor, chinese_english_cor)"
   ]
  },
  {
   "cell_type": "code",
   "execution_count": null,
   "metadata": {},
   "outputs": [],
   "source": []
  }
 ],
 "metadata": {
  "kernelspec": {
   "display_name": "Python 3",
   "language": "python",
   "name": "python3"
  },
  "language_info": {
   "codemirror_mode": {
    "name": "ipython",
    "version": 3
   },
   "file_extension": ".py",
   "mimetype": "text/x-python",
   "name": "python",
   "nbconvert_exporter": "python",
   "pygments_lexer": "ipython3",
   "version": "3.8.5"
  }
 },
 "nbformat": 4,
 "nbformat_minor": 4
}
